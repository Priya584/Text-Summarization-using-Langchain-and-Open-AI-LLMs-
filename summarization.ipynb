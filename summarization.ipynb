{
 "cells": [
  {
   "cell_type": "markdown",
   "metadata": {},
   "source": [
    "Text Summarization Using Langchain"
   ]
  },
  {
   "cell_type": "code",
   "execution_count": 1,
   "metadata": {},
   "outputs": [],
   "source": [
    "import os \n",
    "open_api_key=\"sk***\" #Enter Open AI API key\n",
    "os.environ[\"OPENAI_API_KEY\"]=open_api_key"
   ]
  },
  {
   "cell_type": "code",
   "execution_count": 2,
   "metadata": {},
   "outputs": [],
   "source": [
    "## Basic Prompt Summarization\n",
    "#AI message from llm models \n",
    "#human message is message from human\n",
    "#system message is the initial message same act like a poet \n",
    "from langchain.chat_models import ChatOpenAI\n",
    "from langchain.schema import(\n",
    "    AIMessage,\n",
    "    HumanMessage,\n",
    "    SystemMessage\n",
    ")"
   ]
  },
  {
   "cell_type": "code",
   "execution_count": 3,
   "metadata": {},
   "outputs": [],
   "source": [
    "speech=\"\"\"\n",
    "People across the country, involved in government, political, and social activities, are dedicating their time to make the ‘Viksit Bharat Sankalp Yatra’ (Developed India Resolution Journey) successful. Therefore, as a Member of Parliament, it was my responsibility to also contribute my time to this program. So, today, I have come here just as a Member of Parliament and your ‘sevak’, ready to participate in this program, much like you.\n",
    "\n",
    "In our country, governments have come and gone, numerous schemes have been formulated, discussions have taken place, and big promises have been made. However, my experience and observations led me to believe that the most critical aspect that requires attention is ensuring that the government’s plans reach the intended beneficiaries without any hassles. If there is a ‘Pradhan Mantri Awas Yojana’ (Prime Minister’s housing scheme), then those who are living in jhuggis and slums should get their houses. And he should not need to make rounds of the government offices for this purpose. The government should reach him. Since you have assigned this responsibility to me, about four crore families have got their ‘pucca’ houses. However, I have encountered cases where someone is left out of the government benefits. Therefore, I have decided to tour the country again, to listen to people’s experiences with government schemes, to understand whether they received the intended benefits, and to ensure that the programs are reaching everyone as planned without paying any bribes. We will get the real picture if we visit them again. Therefore, this ‘Viksit Bharat Sankalp Yatra’ is, in a way, my own examination. I want to hear from you and the people across the country whether what I envisioned and the work I have been doing aligns with reality and whether it has reached those for whom it was meant.\n",
    "\n",
    "It is crucial to check whether the work that was supposed to happen has indeed taken place. I recently met some individuals who utilized the Ayushman card to get treatment for serious illnesses. One person met with a severe accident, and after using the card, he could afford the necessary operation, and now he is recovering well. When I asked him, he said: “How could I afford this treatment? Now that there is the Ayushman card, I mustered courage and underwent an operation. Now I am perfectly fine.”  Such stories are blessings to me.\n",
    "\n",
    "The bureaucrats, who prepare good schemes, expedite the paperwork and even allocate funds, also feel satisfied that 50 or 100 people who were supposed to get the funds have got it. The funds meant for a thousand villages have been released. But their job satisfaction peaks when they hear that their work has directly impacted someone’s life positively. When they see the tangible results of their efforts, their enthusiasm multiplies. They feel satisfied. Therefore, ‘Viksit Bharat Sankalp Yatra’ has had a positive impact on government officers. It has made them more enthusiastic about their work, especially when they witness the tangible benefits reaching the people. Officers now feel satisfied with their work, saying, “I made a good plan, I created a file, and the intended beneficiaries received the benefits.” When they find that the money has reached a poor widow under the Jeevan Jyoti scheme and it was a great help to her during her crisis, they realise that they have done a good job. When a government officer listens to such stories, he feels very satisfied.\n",
    "\n",
    "There are very few who understand the power and impact of the ‘Viksit Bharat Sankalp Yatra’. When I hear people connected to bureaucratic circles talking about it, expressing their satisfaction, it resonates with me. I’ve heard stories where someone suddenly received 2 lakh rupees after the death of her husband, and a sister mentioned how the arrival of gas in her home transformed her lives. The most significant aspect is when someone says that the line between rich and poor has vanished. While the slogan ‘Garibi Hatao’ (Remove Poverty) is one thing, but the real change happens when a person says, “As soon as the gas stove came to my house, the distinction between poverty and affluence disappeared.\n",
    "\"\"\""
   ]
  },
  {
   "cell_type": "code",
   "execution_count": 4,
   "metadata": {},
   "outputs": [
    {
     "name": "stderr",
     "output_type": "stream",
     "text": [
      "c:\\Users\\Kasturi\\Text Summarization\\venv\\lib\\site-packages\\langchain_core\\_api\\deprecation.py:117: LangChainDeprecationWarning: The class `langchain_community.chat_models.openai.ChatOpenAI` was deprecated in langchain-community 0.0.10 and will be removed in 0.2.0. An updated version of the class exists in the langchain-openai package and should be used instead. To use it run `pip install -U langchain-openai` and import as `from langchain_openai import ChatOpenAI`.\n",
      "  warn_deprecated(\n"
     ]
    }
   ],
   "source": [
    "chat_messages=[\n",
    "    SystemMessage(content='You are an expert assistant with expertice in summarizing speeches'),\n",
    "    HumanMessage(content=f'Please provide a short and concise summary of the following speech:\\n TEXT: {speech}')\n",
    "]\n",
    "\n",
    "llm=ChatOpenAI(model_name='gpt-3.5-turbo')"
   ]
  },
  {
   "cell_type": "code",
   "execution_count": 5,
   "metadata": {},
   "outputs": [
    {
     "data": {
      "text/plain": [
       "866"
      ]
     },
     "execution_count": 5,
     "metadata": {},
     "output_type": "execute_result"
    }
   ],
   "source": [
    "##total tokens\n",
    "llm.get_num_tokens(speech)"
   ]
  },
  {
   "cell_type": "code",
   "execution_count": 6,
   "metadata": {},
   "outputs": [
    {
     "name": "stderr",
     "output_type": "stream",
     "text": [
      "c:\\Users\\Kasturi\\Text Summarization\\venv\\lib\\site-packages\\langchain_core\\_api\\deprecation.py:117: LangChainDeprecationWarning: The function `__call__` was deprecated in LangChain 0.1.7 and will be removed in 0.2.0. Use invoke instead.\n",
      "  warn_deprecated(\n"
     ]
    },
    {
     "data": {
      "text/plain": [
       "\"In this speech, the speaker highlights the importance of ensuring that government plans reach the intended beneficiaries without any difficulties. They mention their responsibility as a Member of Parliament to contribute to this effort and share their experiences of seeing both successes and failures in government schemes. The speaker emphasizes the need to listen to people's experiences, understand if they received the intended benefits, and ensure that programs are reaching everyone as planned. They mention the positive impact of the 'Viksit Bharat Sankalp Yatra' on government officers, who feel satisfied when they see the tangible benefits reaching the people. The speaker also mentions the stories of individuals who have benefited from government schemes, such as accessing medical treatment through the Ayushman card. Overall, the speaker emphasizes the importance of ensuring that government plans translate into real improvements in people's lives.\""
      ]
     },
     "execution_count": 6,
     "metadata": {},
     "output_type": "execute_result"
    }
   ],
   "source": [
    "llm(chat_messages).content"
   ]
  },
  {
   "cell_type": "code",
   "execution_count": 7,
   "metadata": {},
   "outputs": [
    {
     "name": "stdout",
     "output_type": "stream",
     "text": [
      "The speaker begins by acknowledging the efforts of people involved in the 'Viksit Bharat Sankalp Yatra' and expressing their own commitment as a Member of Parliament to contribute to the program. They highlight the importance of ensuring that government plans reach the intended beneficiaries smoothly, without them having to go through bureaucratic hassles. The speaker shares their experience of providing 'pucca' houses to four crore families but acknowledges that some people may still be left out of government benefits. As a result, they plan to tour the country again to listen to people's experiences with government schemes and ensure that the programs are reaching everyone as intended, without bribes. The speaker believes it is crucial to check if the work that was supposed to happen has indeed taken place and shares stories of individuals who have benefited from the Ayushman card. They mention that the 'Viksit Bharat Sankalp Yatra' has had a positive impact on government officers, making them more enthusiastic about their work when they witness the tangible benefits reaching people. The speaker emphasizes the power and impact of the program and shares stories of people whose lives have been transformed by government schemes, highlighting the importance of eliminating the distinction between poverty and affluence.\n"
     ]
    }
   ],
   "source": [
    "##get_summary\n",
    "print(llm(chat_messages).content)"
   ]
  },
  {
   "cell_type": "markdown",
   "metadata": {},
   "source": [
    "Prompt Templates Text Summarization"
   ]
  },
  {
   "cell_type": "code",
   "execution_count": 8,
   "metadata": {},
   "outputs": [],
   "source": [
    "from langchain.chains import LLMChain\n",
    "from langchain import PromptTemplate"
   ]
  },
  {
   "cell_type": "code",
   "execution_count": 10,
   "metadata": {},
   "outputs": [],
   "source": [
    "generic_template='''\n",
    "Write a summary of the following speech:\n",
    "Speech : `{speech}`\n",
    "Translate the precise summary to {language}.\n",
    "\n",
    "'''\n",
    "prompt=PromptTemplate(\n",
    "    input_variables=['speech','language'],\n",
    "    template=generic_template\n",
    ")"
   ]
  },
  {
   "cell_type": "code",
   "execution_count": 11,
   "metadata": {},
   "outputs": [
    {
     "data": {
      "text/plain": [
       "'\\nWrite a summary of the following speech:\\nSpeech : `\\nPeople across the country, involved in government, political, and social activities, are dedicating their time to make the ‘Viksit Bharat Sankalp Yatra’ (Developed India Resolution Journey) successful. Therefore, as a Member of Parliament, it was my responsibility to also contribute my time to this program. So, today, I have come here just as a Member of Parliament and your ‘sevak’, ready to participate in this program, much like you.\\n\\nIn our country, governments have come and gone, numerous schemes have been formulated, discussions have taken place, and big promises have been made. However, my experience and observations led me to believe that the most critical aspect that requires attention is ensuring that the government’s plans reach the intended beneficiaries without any hassles. If there is a ‘Pradhan Mantri Awas Yojana’ (Prime Minister’s housing scheme), then those who are living in jhuggis and slums should get their houses. And he should not need to make rounds of the government offices for this purpose. The government should reach him. Since you have assigned this responsibility to me, about four crore families have got their ‘pucca’ houses. However, I have encountered cases where someone is left out of the government benefits. Therefore, I have decided to tour the country again, to listen to people’s experiences with government schemes, to understand whether they received the intended benefits, and to ensure that the programs are reaching everyone as planned without paying any bribes. We will get the real picture if we visit them again. Therefore, this ‘Viksit Bharat Sankalp Yatra’ is, in a way, my own examination. I want to hear from you and the people across the country whether what I envisioned and the work I have been doing aligns with reality and whether it has reached those for whom it was meant.\\n\\nIt is crucial to check whether the work that was supposed to happen has indeed taken place. I recently met some individuals who utilized the Ayushman card to get treatment for serious illnesses. One person met with a severe accident, and after using the card, he could afford the necessary operation, and now he is recovering well. When I asked him, he said: “How could I afford this treatment? Now that there is the Ayushman card, I mustered courage and underwent an operation. Now I am perfectly fine.”  Such stories are blessings to me.\\n\\nThe bureaucrats, who prepare good schemes, expedite the paperwork and even allocate funds, also feel satisfied that 50 or 100 people who were supposed to get the funds have got it. The funds meant for a thousand villages have been released. But their job satisfaction peaks when they hear that their work has directly impacted someone’s life positively. When they see the tangible results of their efforts, their enthusiasm multiplies. They feel satisfied. Therefore, ‘Viksit Bharat Sankalp Yatra’ has had a positive impact on government officers. It has made them more enthusiastic about their work, especially when they witness the tangible benefits reaching the people. Officers now feel satisfied with their work, saying, “I made a good plan, I created a file, and the intended beneficiaries received the benefits.” When they find that the money has reached a poor widow under the Jeevan Jyoti scheme and it was a great help to her during her crisis, they realise that they have done a good job. When a government officer listens to such stories, he feels very satisfied.\\n\\nThere are very few who understand the power and impact of the ‘Viksit Bharat Sankalp Yatra’. When I hear people connected to bureaucratic circles talking about it, expressing their satisfaction, it resonates with me. I’ve heard stories where someone suddenly received 2 lakh rupees after the death of her husband, and a sister mentioned how the arrival of gas in her home transformed her lives. The most significant aspect is when someone says that the line between rich and poor has vanished. While the slogan ‘Garibi Hatao’ (Remove Poverty) is one thing, but the real change happens when a person says, “As soon as the gas stove came to my house, the distinction between poverty and affluence disappeared.\\n`\\nTranslate the precise summary to Hindi.\\n\\n'"
      ]
     },
     "execution_count": 11,
     "metadata": {},
     "output_type": "execute_result"
    }
   ],
   "source": [
    "prompt.format(speech=speech,language='Hindi')"
   ]
  },
  {
   "cell_type": "code",
   "execution_count": 12,
   "metadata": {},
   "outputs": [],
   "source": [
    "complete_prompt=prompt.format(speech=speech,language='Hindi')"
   ]
  },
  {
   "cell_type": "code",
   "execution_count": 13,
   "metadata": {},
   "outputs": [
    {
     "data": {
      "text/plain": [
       "885"
      ]
     },
     "execution_count": 13,
     "metadata": {},
     "output_type": "execute_result"
    }
   ],
   "source": [
    "\n",
    "llm.get_num_tokens(complete_prompt)"
   ]
  },
  {
   "cell_type": "code",
   "execution_count": 14,
   "metadata": {},
   "outputs": [
    {
     "name": "stderr",
     "output_type": "stream",
     "text": [
      "c:\\Users\\Kasturi\\Text Summarization\\venv\\lib\\site-packages\\langchain_core\\_api\\deprecation.py:117: LangChainDeprecationWarning: The function `run` was deprecated in LangChain 0.1.0 and will be removed in 0.2.0. Use invoke instead.\n",
      "  warn_deprecated(\n"
     ]
    }
   ],
   "source": [
    "llm_chain=LLMChain(llm=llm,prompt=prompt)\n",
    "summary=llm_chain.run({'speech':speech,'language':'hindi'})"
   ]
  },
  {
   "cell_type": "code",
   "execution_count": 15,
   "metadata": {},
   "outputs": [
    {
     "data": {
      "text/plain": [
       "'भाषण: `\\nसंगठन, राजनीतिक और सामाजिक गतिविधियों में जुटे लोग विकसित भारत संकल्प यात्रा को सफल बनाने के लिए अपना समय समर्पित कर रहे हैं। इसलिए, संसद के सदस्य के रूप में, मेरी जिम्मेदारी थी कि मैं भी इस कार्यक्रम में अपना समय दे। इसलिए, आज मैं यहां सिर्फ संसद के सदस्य और आपका सेवक के रूप में आया हूँ, तैयार हूँ इस कार्यक्रम में आपके साथ शामिल होने के लिए।\\n\\nहमारे देश में सरकारों ने आने-जाने की बात की है, अनेक योजनाएं बनाई गई हैं, चर्चाएं हुई हैं, और बड़े वादे किए गए हैं। हालांकि, मेरे अनुभव और निरीक्षण ने मुझे यह मानने के लिए बाध्य किया है कि सरकारी योजनाओं को बिना किसी परेशानी के निश्चित लाभार्थियों तक पहुंचाना सबसे महत्वपूर्ण हिस्सा है। अगर \\'प्रधानमंत्री आवास योजना\\' है, तो उन लोगों को भी अपने घर मिलना चाहिए जो झुग्गी और स्लम में रह रहे हैं। और उन्हें इस उद्देश्य के लिए सरकारी कार्यालयों के चक्कर काटने की जरूरत नहीं होनी चाहिए। सरकार को उस तक पहुंचनी चाहिए। जबसे आपने मुझे इस जिम्मेदारी को सौंपा है, तबसे लगभग चार करोड़ परिवारों को उनके पक्के घर मिल गए हैं। हालांकि, मुझे ऐसे मामलों के सामने भी आना पड़ा है जहां किसी को सरकारी लाभ से वंचित छोड़ दिया जाता है। इसलिए, मैंने फिर से देश की यात्रा करने का निर्णय लिया है, सरकारी योजनाओं के साथ लोगों के अनुभवों को सुनने के लिए, समझने के लिए कि क्या उन्हें निश्चित लाभ मिला है और क्या कार्यक्रम सोचे गए लक्ष्य तक सभी तक पहुंच रहे हैं बिना किसी घूस देने के। हमें इसे फिर से देखने पर ही वास्तविक तस्वीर मिलेगी। इसलिए, यह विकसित भारत संकल्प यात्रा, एक तरह से, मेरी अपनी परीक्षा है। मुझसे और देशभर के लोगों से सुनना चाहता हूँ कि मेरे द्वारा विचार किया गया और मैंने किया गया काम वास्तविकता के साथ मेल खाता है और क्या यह उन लोगों तक पहुंचा है जिनके लिए यह मकसद रखा गया था।\\n\\nयह महत्वपूर्ण है कि काम जो होना चाहिए, वास्तव में हुआ है या नहीं, उसे जांचा जाए। हाल ही में मैंने कुछ लोगों से मिले जिन्होंने गंभीर बीमारियों के इलाज के लिए आयुष्मान कार्ड का उपयोग किया। एक व्यक्ति को गंभीर दुर्घटना का सामना करना पड़ा था, और कार्ड का उपयोग करने के बाद उसे आवश्यक ऑपरेशन करने में सक्षम होने का मौका मिला, और अब वह ठीक चल रहा है। जब मैंने उससे पूछा, तो उसने कहा: \"मैं इस उपचार की कैसे संभवतः तत्परता से कर सकता था? अब जब आयुष्मान कार्ड है, तो मैंने हिम्मत जुटाई और एक ऑपरेशन करवाया। अब मैं सही ठीक हूँ।\" ऐसी कहानियाँ मेरे लिए आशीर्वाद हैं।\\n\\nअच्छी योजनाएं तैयार करने वाले अधिकारी, प्रक्रिया को तेजी से पूरा करते हैं और धन भी आवंटित करते हैं, वे भी संतुष्ट महसूस करते हैं कि 50 या 100 लोग, जिन्हें धन मिलना चाहिए था, उसे मिल गया है। हजार गांवों के लिए निकाले गए धन जारी किए गए हैं। लेकिन उनकी काम के संतुष्टि का अधिकारिक ऊंचाई तब होती है जब उन्हें पता चलता है कि उनका काम सीधे रूप से किसी के जीवन पर सकारात्मक प्रभाव डाला है। जब वे अपने प्रयासों के वास्तविक परिणाम देखते हैं, तो उनका उत्साह बढ़ जाता है। वे संतुष्ट महसूस करते हैं। इसलिए, विकसित भारत संकल्प यात्रा ने सरकारी अधिकारियों पर सकारात्मक प्रभाव डाला है। इसने उन्हें उनके काम के प्रति और उनके प्रयासों के वास्तविक लाभ पर अधिक उत्साहित किया है। अधिकारी अब अपने काम से संतुष्ट होते हैं, कहते हैं, \"मैंने एक अच्छी योजना बनाई, मैंने एक फ़ाइल तैयार की, और निश्चित लाभार्थियों को लाभ पहुंचा है।\" जब वह देखते हैं कि पूरे जीवन के दौरान एक गरीब विधवा को जीवन ज्योति योजना के तहत पैसे मिले हैं और यह उसकी संकट के समय मदद काम आई, तो उन्हें लगता है कि उन्होंने अच्छा काम किया है। जब कोई सरकारी अधिकारी ऐसी कहानियाँ सुनता है, तो उसे बहुत संतुष्टि महसूस होती है।\\n\\nविकसित भारत संकल्प यात्रा क'"
      ]
     },
     "execution_count": 15,
     "metadata": {},
     "output_type": "execute_result"
    }
   ],
   "source": [
    "summary"
   ]
  },
  {
   "cell_type": "markdown",
   "metadata": {},
   "source": [
    "StuffDocumentChain Text Summarization"
   ]
  },
  {
   "cell_type": "code",
   "execution_count": 15,
   "metadata": {},
   "outputs": [],
   "source": [
    "from PyPDF2 import PdfReader"
   ]
  },
  {
   "cell_type": "code",
   "execution_count": 16,
   "metadata": {},
   "outputs": [],
   "source": [
    "# provide the path of  pdf file/files.\n",
    "pdfreader = PdfReader('Mayo.pdf')"
   ]
  },
  {
   "cell_type": "code",
   "execution_count": 17,
   "metadata": {},
   "outputs": [],
   "source": [
    "from typing_extensions import Concatenate\n",
    "# read text from pdf\n",
    "text = ''\n",
    "for i, page in enumerate(pdfreader.pages):\n",
    "    content = page.extract_text()\n",
    "    if content:\n",
    "        text += content"
   ]
  },
  {
   "cell_type": "code",
   "execution_count": 18,
   "metadata": {},
   "outputs": [
    {
     "data": {
      "text/plain": [
       "'A Foundation for Health Care Reform Legislation\\nMAyo CLiniC’s Point oF View      \\nMayo Clinic believes that U.s. health care urgently needs reform to ensure access to quality, \\naffordable patient care. each major stakeholder — doctors/hospitals, patients, payers and the government — plays a key role in reform. w ith reform now in the hands of lawmakers, \\nit’s important to outline the specific responsibilities that our elected officials have in helping to build a health care system that works for all Americans.\\nGoal\\nHigh-quality, affordable health care for all.\\n  \\nGovernment’s Role in Achieving the Goal\\nReform the Medicare payment system to create incentives for caregivers to offer the \\uf0a7\\t\\nhighest quality care at the most reasonable cost.\\nCoordinate basic, private insurance offerings and provide sliding-scale subsidies to \\uf0a7\\t\\nenable all Americans to purchase health insurance.\\nProcess\\nLegislation must address both issues — payment reform and insurance — simultaneously. \\nThis is the opportunity to begin a transformation toward a health care system that delivers and \\npays for what we really want — high quality, affordable care for patients. \\nProviding insurance without addressing underlying payment issues and care delivery will \\ncreate significant unintended consequences — for example, restricted access for Medicare \\npatients and early bankruptcy of this entitlement program. Historically, across-the-board \\npayment cuts have not improved health care quality and have resulted in higher cost due to increased volumes of services provided to make up for lost revenues. We must identify novel approaches to accomplish these goals. \\nDetailed Recommendations — Payment Reform\\nLegislators must focus on creating new ways to provide fair payment to doctors and hospitals \\nthat offer high-quality, lower-cost care. The Medicare program is the lever that Congress can \\nuse to start us along this path. \\nWe believe that Congress should set a three-year deadline for creating and implementing new \\nMedicare payment methods. Congress must send the message to providers that they need to \\nstart now to re-engineer the care delivery models to create better value for patients, coordinate care and improve quality at a lower cost. Some ideas to move toward paying for high-quality, affordable care include:\\n1. Medicare value indexing\\nEmbed a “value index” into Medicare Parts A and B to reward those who provide safe, \\nhigh-quality care with excellent service at a reasonable cost, and to provide the incentive \\nfor other providers to provide care that is of higher quality and lower cost.  \\nFor example, a value index could be defined by the equation Value equals Quality over \\nCost or V=Q/C.  \\nQuality (Q) — the numerator — includes clinical outcomes, safety and patient-1. \\nreported satisfaction. \\nExamples of outcome measures: hospital admissions, emergency department \\uf0a7\\t\\nvisits, readmission rates and mortality rates Examples of safety measures: central line infection rates, medication errors \\uf0a7\\t\\nand post-operative complicationsExamples of patient satisfaction: National Research Corporation’s \\uf0a7\\t Healthcare \\nMarket Guide\\nPerformance measurement information is currently available through a variety of respected sources, including the Agency for Healthcare Research and Quality, National Quality Foundation, Leap Frog, AQA, University HealthSystem Consortium, Medicare Provider Analysis and Review, and the Commonwealth Fund.  \\nCost (C) — the denominator — encompasses the cost of care 2. over time. Regional \\nMedicare spending data from Medicare itself or from the Dartmouth Atlas of \\nHealthcare could provide the information necessary to round out the equation.\\nProviders would then experience payment repercussions based upon their value scores. Over time, we believe that providers would change their behaviors — sharing information, eliminating unnecessary tests — in order to increase quality and decrease costs because payment would be affected by it. \\nThe value index can be constructed for many types of payment models, including hospital \\nDRG payments, physician fees, payment updates and other payment formulas, including bundled payments. \\n2. Bundled payments for high-cost conditions, such as total knee replacement, heart \\nattack and lumbar disc herniation\\nTo realize cost savings quickly, Medicare should start with bundled payments for a limited \\nnumber of high-cost hospital episodes. (Over time, bundled payments could be considered for some chronic conditions as well.) The goal is to reduce practice variation and focus on an outcome-based goal.  \\nThe bundled payment might include hospitalization (Part A), physician (Part B) and post-\\nacute care (nursing home, home health care, etc.) services.  The outcome would be defined as reasonably attainable improvement in health status in the safest, most cost-effective way and would cover the entire episode of care through the patient’s return to function.   \\nSuch a reformed payment model would encourage improved coordination of care among \\nphysicians, hospitals and nursing homes, and it would encourage utilization of nursing and other non-physician caregivers.  It would be important to allow providers time to \\nprepare for this method of reimbursement because many don’t currently participate in organized delivery systems.\\n3. Value-based care demonstration project\\nA longer term recommendation is to develop and implement national value-based care \\ndemonstration projects. These pilots will help us determine which organizational structures and payment methods will drive quality, affordable care. \\nDetailed Recommendations – Insurance for All\\nThe current private health insurance system must be reformed. We agree with the direction of \\nthe following proposal from Len Nichols and John Bertko of the New America Foundation:\\nRequire Americans to purchase health insurance\\uf0a7\\t\\nProvide sliding-scale subsidies to help those in need to buy the insurance\\uf0a7\\t\\nProhibit pre-existing condition exclusions\\uf0a7\\t\\nDefine a minimum health benefit package or actuarial equivalent\\uf0a7\\t\\nAdjust risk-levels among enrollees\\uf0a7\\t\\nWithin the context of a reformed insurance system, we recommend that the government create a simple coordinating mechanism for individuals to select a basic private insurance plan from several options — perhaps modeled after the Federal Employees Health Benefit Plan (FEHBP).  Let’s give the American people the same insurance options that members of Congress enjoy. We do not support the creation of another government-run, government price-controlled, Medicare-like insurance plan. Medicare pays for volume, not value, causes significant cost-shifts to the private sector and is financially unsustainable. \\nOperational Framework\\nTo carry out some of these functions, we may need to move them a step away from the direct \\ninfluence of lobbyists and special interests. We recommend that Congress clearly delegate \\nresponsibility and authority to establish new methods of Medicare payment to either the \\nSecretary for Health and Human Services (who could form an advisory board, if desired) or a \\nquasi-independent commission.  The idea is to create a longer-term, problem-solving function \\nthat is outside of yet reports progress to and is accountable for results to the U.S. government. \\nSome functions of this body could include:\\nDefine, measure and create ways to pay for value, beginning with Medicare value \\uf0a7\\t\\nindexing (see #1).  \\n     \\n°      Consider starting with three to five conditions and three to five procedures that \\nare most costly for Medicare.\\nWithin one to three years, link payment with these newly defined value measures. \\uf0a7\\t\\nRequire Medicare to truly negotiate with providers to find ways to reward various types of \\uf0a7\\t\\norganized medical care (from virtual to bricks-and-mortar integrated practices). Examples include fee-for-service with variable updates, chronic disease coordinator payments and shared decision-making. (See addendum for more examples and explanations.)\\nIn addition to payment reform, this board could serve as a trusted national data aggregator, making performance and pricing information publically available so that stakeholders can identify best practices and high performers. Administrative simplification might also fall under its purview.Additional Elements\\nSome tools needed to achieve high-quality, low-cost care are already in place; some need to \\nbe created or expanded. These tools include the intelligent use of information technology, comparative effectiveness research, evidence-based medicine and the science of care delivery. \\nSummary\\nWe believe that health care must be reformed and support reform efforts aimed at providing high-\\nquality, affordable care for all Americans. Lawmakers must propose and pass bold, innovative legislation in order to accomplish this. \\nAddendum: Pay-for-Value Approaches \\nShared Savings\\n•\\t .  For high-cost patients (such as patients hospitalized for diabetic-related \\ncomplications), determine the annual cost per patient for each separate provider system.   \\nThe payer would share this information with each provider system and offer to share savings in total cost per patient with each provider system that can deliver such savings while maintaining or improving patient outcomes. \\nChronic Condition(s) Coordination Payments\\n•\\t .  Under this approach, patients with one \\nor more chronic conditions would choose a “medical home” (place with resources and \\ninfrastructure to organize and coordinate care over time) for their care management, preventive care and minor care associated with those chronic conditions.  The medical home would receive a periodic, prospectively-defined “care management payment” to cover those services.  Acute patient care episodes would be paid separately under regular insurance coverage rules. \\nVaried Provider Payment Updates\\n•\\t .  This approach would expand the concept used by the \\nCMS-Premier Hospital Quality Demonstration Project.  For the hospital-based episodes of \\ncare (hospitalized patients account for the majority of health care expense), use risk-adjusted patient outcome measures (mortality, safety, patient satisfaction) and cost over a span of time (such as the Dartmouth Atlas cost in the last six months of life) to determine which care systems are delivering the best value.  Providers delivering the best value would receive a larger payment update.   \\nFull Capitation\\n•\\t .  Some large, integrated providers can accept full capitation for a defined \\nbenefit set for an enrolled population.  This is an excellent way to encourage provider \\nefficiency.  Shared-risk agreements can be created for groups of various sizes, including smaller groups.  It will be important, and possible, to develop capitation approaches that take into consideration the lessons learned from the failures of capitation in the 1990s. \\nShared Decision-Making•\\t .  Under this approach, all patient candidates with selected conditions \\nthat include preference-based elective surgery and other treatment choices (for example, spinal \\nfusion, PSAs, etc.) would be offered an approved decision aid based on their disease/condition and its treatment options.  Medical centers would be compensated for offering the \\nindependent educational program.  It may be appropriate to create incentives for payers to offer these programs and for patients to complete them. \\nAccountable Care Organizations\\n•\\t . Under this approach, a group of physicians (and possibly \\na hospital) could be responsible for quality and overall annual Medicare spending for their \\npatients.  Different payment models could be tested.  For example, physicians would be \\npaid FFS rates, less a withhold, and then receive bonuses for meeting resources use and \\nquality targets over the course of a year. Options might include creating virtual accountable care organizations based on physician-hospital referral relationships.  Such an approach would create incentives for physicians and hospitals to work together to provide better value care. \\nEpisode-Based Payments for Hospitalized Patients\\n•\\t .  This approach would provide a single \\nbundled payment to hospitals and physicians managing the care for patients with major \\nacute episodes.  One lump payment for both hospital and physician services is different from the present Medicare DRG payment that only covers the hospital service.  The new approach is intended to encourage the two groups (hospital and treating physicians) to \\neffectively integrate patient care.  \\nThe idea of “episode-based payments for hospitalized patients” is to concentrate efforts \\nwhere the dollars are and not get bogged down trying to change payment approaches for all medical services.  This is especially pertinent since 10-15% of patients will account for 80% of total costs.'"
      ]
     },
     "execution_count": 18,
     "metadata": {},
     "output_type": "execute_result"
    }
   ],
   "source": [
    "text"
   ]
  },
  {
   "cell_type": "code",
   "execution_count": 19,
   "metadata": {},
   "outputs": [],
   "source": [
    "from langchain.docstore.document import Document"
   ]
  },
  {
   "cell_type": "code",
   "execution_count": 20,
   "metadata": {},
   "outputs": [
    {
     "data": {
      "text/plain": [
       "[Document(page_content='A Foundation for Health Care Reform Legislation\\nMAyo CLiniC’s Point oF View      \\nMayo Clinic believes that U.s. health care urgently needs reform to ensure access to quality, \\naffordable patient care. each major stakeholder — doctors/hospitals, patients, payers and the government — plays a key role in reform. w ith reform now in the hands of lawmakers, \\nit’s important to outline the specific responsibilities that our elected officials have in helping to build a health care system that works for all Americans.\\nGoal\\nHigh-quality, affordable health care for all.\\n  \\nGovernment’s Role in Achieving the Goal\\nReform the Medicare payment system to create incentives for caregivers to offer the \\uf0a7\\t\\nhighest quality care at the most reasonable cost.\\nCoordinate basic, private insurance offerings and provide sliding-scale subsidies to \\uf0a7\\t\\nenable all Americans to purchase health insurance.\\nProcess\\nLegislation must address both issues — payment reform and insurance — simultaneously. \\nThis is the opportunity to begin a transformation toward a health care system that delivers and \\npays for what we really want — high quality, affordable care for patients. \\nProviding insurance without addressing underlying payment issues and care delivery will \\ncreate significant unintended consequences — for example, restricted access for Medicare \\npatients and early bankruptcy of this entitlement program. Historically, across-the-board \\npayment cuts have not improved health care quality and have resulted in higher cost due to increased volumes of services provided to make up for lost revenues. We must identify novel approaches to accomplish these goals. \\nDetailed Recommendations — Payment Reform\\nLegislators must focus on creating new ways to provide fair payment to doctors and hospitals \\nthat offer high-quality, lower-cost care. The Medicare program is the lever that Congress can \\nuse to start us along this path. \\nWe believe that Congress should set a three-year deadline for creating and implementing new \\nMedicare payment methods. Congress must send the message to providers that they need to \\nstart now to re-engineer the care delivery models to create better value for patients, coordinate care and improve quality at a lower cost. Some ideas to move toward paying for high-quality, affordable care include:\\n1. Medicare value indexing\\nEmbed a “value index” into Medicare Parts A and B to reward those who provide safe, \\nhigh-quality care with excellent service at a reasonable cost, and to provide the incentive \\nfor other providers to provide care that is of higher quality and lower cost.  \\nFor example, a value index could be defined by the equation Value equals Quality over \\nCost or V=Q/C.  \\nQuality (Q) — the numerator — includes clinical outcomes, safety and patient-1. \\nreported satisfaction. \\nExamples of outcome measures: hospital admissions, emergency department \\uf0a7\\t\\nvisits, readmission rates and mortality rates Examples of safety measures: central line infection rates, medication errors \\uf0a7\\t\\nand post-operative complicationsExamples of patient satisfaction: National Research Corporation’s \\uf0a7\\t Healthcare \\nMarket Guide\\nPerformance measurement information is currently available through a variety of respected sources, including the Agency for Healthcare Research and Quality, National Quality Foundation, Leap Frog, AQA, University HealthSystem Consortium, Medicare Provider Analysis and Review, and the Commonwealth Fund.  \\nCost (C) — the denominator — encompasses the cost of care 2. over time. Regional \\nMedicare spending data from Medicare itself or from the Dartmouth Atlas of \\nHealthcare could provide the information necessary to round out the equation.\\nProviders would then experience payment repercussions based upon their value scores. Over time, we believe that providers would change their behaviors — sharing information, eliminating unnecessary tests — in order to increase quality and decrease costs because payment would be affected by it. \\nThe value index can be constructed for many types of payment models, including hospital \\nDRG payments, physician fees, payment updates and other payment formulas, including bundled payments. \\n2. Bundled payments for high-cost conditions, such as total knee replacement, heart \\nattack and lumbar disc herniation\\nTo realize cost savings quickly, Medicare should start with bundled payments for a limited \\nnumber of high-cost hospital episodes. (Over time, bundled payments could be considered for some chronic conditions as well.) The goal is to reduce practice variation and focus on an outcome-based goal.  \\nThe bundled payment might include hospitalization (Part A), physician (Part B) and post-\\nacute care (nursing home, home health care, etc.) services.  The outcome would be defined as reasonably attainable improvement in health status in the safest, most cost-effective way and would cover the entire episode of care through the patient’s return to function.   \\nSuch a reformed payment model would encourage improved coordination of care among \\nphysicians, hospitals and nursing homes, and it would encourage utilization of nursing and other non-physician caregivers.  It would be important to allow providers time to \\nprepare for this method of reimbursement because many don’t currently participate in organized delivery systems.\\n3. Value-based care demonstration project\\nA longer term recommendation is to develop and implement national value-based care \\ndemonstration projects. These pilots will help us determine which organizational structures and payment methods will drive quality, affordable care. \\nDetailed Recommendations – Insurance for All\\nThe current private health insurance system must be reformed. We agree with the direction of \\nthe following proposal from Len Nichols and John Bertko of the New America Foundation:\\nRequire Americans to purchase health insurance\\uf0a7\\t\\nProvide sliding-scale subsidies to help those in need to buy the insurance\\uf0a7\\t\\nProhibit pre-existing condition exclusions\\uf0a7\\t\\nDefine a minimum health benefit package or actuarial equivalent\\uf0a7\\t\\nAdjust risk-levels among enrollees\\uf0a7\\t\\nWithin the context of a reformed insurance system, we recommend that the government create a simple coordinating mechanism for individuals to select a basic private insurance plan from several options — perhaps modeled after the Federal Employees Health Benefit Plan (FEHBP).  Let’s give the American people the same insurance options that members of Congress enjoy. We do not support the creation of another government-run, government price-controlled, Medicare-like insurance plan. Medicare pays for volume, not value, causes significant cost-shifts to the private sector and is financially unsustainable. \\nOperational Framework\\nTo carry out some of these functions, we may need to move them a step away from the direct \\ninfluence of lobbyists and special interests. We recommend that Congress clearly delegate \\nresponsibility and authority to establish new methods of Medicare payment to either the \\nSecretary for Health and Human Services (who could form an advisory board, if desired) or a \\nquasi-independent commission.  The idea is to create a longer-term, problem-solving function \\nthat is outside of yet reports progress to and is accountable for results to the U.S. government. \\nSome functions of this body could include:\\nDefine, measure and create ways to pay for value, beginning with Medicare value \\uf0a7\\t\\nindexing (see #1).  \\n     \\n°      Consider starting with three to five conditions and three to five procedures that \\nare most costly for Medicare.\\nWithin one to three years, link payment with these newly defined value measures. \\uf0a7\\t\\nRequire Medicare to truly negotiate with providers to find ways to reward various types of \\uf0a7\\t\\norganized medical care (from virtual to bricks-and-mortar integrated practices). Examples include fee-for-service with variable updates, chronic disease coordinator payments and shared decision-making. (See addendum for more examples and explanations.)\\nIn addition to payment reform, this board could serve as a trusted national data aggregator, making performance and pricing information publically available so that stakeholders can identify best practices and high performers. Administrative simplification might also fall under its purview.Additional Elements\\nSome tools needed to achieve high-quality, low-cost care are already in place; some need to \\nbe created or expanded. These tools include the intelligent use of information technology, comparative effectiveness research, evidence-based medicine and the science of care delivery. \\nSummary\\nWe believe that health care must be reformed and support reform efforts aimed at providing high-\\nquality, affordable care for all Americans. Lawmakers must propose and pass bold, innovative legislation in order to accomplish this. \\nAddendum: Pay-for-Value Approaches \\nShared Savings\\n•\\t .  For high-cost patients (such as patients hospitalized for diabetic-related \\ncomplications), determine the annual cost per patient for each separate provider system.   \\nThe payer would share this information with each provider system and offer to share savings in total cost per patient with each provider system that can deliver such savings while maintaining or improving patient outcomes. \\nChronic Condition(s) Coordination Payments\\n•\\t .  Under this approach, patients with one \\nor more chronic conditions would choose a “medical home” (place with resources and \\ninfrastructure to organize and coordinate care over time) for their care management, preventive care and minor care associated with those chronic conditions.  The medical home would receive a periodic, prospectively-defined “care management payment” to cover those services.  Acute patient care episodes would be paid separately under regular insurance coverage rules. \\nVaried Provider Payment Updates\\n•\\t .  This approach would expand the concept used by the \\nCMS-Premier Hospital Quality Demonstration Project.  For the hospital-based episodes of \\ncare (hospitalized patients account for the majority of health care expense), use risk-adjusted patient outcome measures (mortality, safety, patient satisfaction) and cost over a span of time (such as the Dartmouth Atlas cost in the last six months of life) to determine which care systems are delivering the best value.  Providers delivering the best value would receive a larger payment update.   \\nFull Capitation\\n•\\t .  Some large, integrated providers can accept full capitation for a defined \\nbenefit set for an enrolled population.  This is an excellent way to encourage provider \\nefficiency.  Shared-risk agreements can be created for groups of various sizes, including smaller groups.  It will be important, and possible, to develop capitation approaches that take into consideration the lessons learned from the failures of capitation in the 1990s. \\nShared Decision-Making•\\t .  Under this approach, all patient candidates with selected conditions \\nthat include preference-based elective surgery and other treatment choices (for example, spinal \\nfusion, PSAs, etc.) would be offered an approved decision aid based on their disease/condition and its treatment options.  Medical centers would be compensated for offering the \\nindependent educational program.  It may be appropriate to create incentives for payers to offer these programs and for patients to complete them. \\nAccountable Care Organizations\\n•\\t . Under this approach, a group of physicians (and possibly \\na hospital) could be responsible for quality and overall annual Medicare spending for their \\npatients.  Different payment models could be tested.  For example, physicians would be \\npaid FFS rates, less a withhold, and then receive bonuses for meeting resources use and \\nquality targets over the course of a year. Options might include creating virtual accountable care organizations based on physician-hospital referral relationships.  Such an approach would create incentives for physicians and hospitals to work together to provide better value care. \\nEpisode-Based Payments for Hospitalized Patients\\n•\\t .  This approach would provide a single \\nbundled payment to hospitals and physicians managing the care for patients with major \\nacute episodes.  One lump payment for both hospital and physician services is different from the present Medicare DRG payment that only covers the hospital service.  The new approach is intended to encourage the two groups (hospital and treating physicians) to \\neffectively integrate patient care.  \\nThe idea of “episode-based payments for hospitalized patients” is to concentrate efforts \\nwhere the dollars are and not get bogged down trying to change payment approaches for all medical services.  This is especially pertinent since 10-15% of patients will account for 80% of total costs.')]"
      ]
     },
     "execution_count": 20,
     "metadata": {},
     "output_type": "execute_result"
    }
   ],
   "source": [
    "docs = [Document(page_content=text)]\n",
    "docs"
   ]
  },
  {
   "cell_type": "code",
   "execution_count": 21,
   "metadata": {},
   "outputs": [],
   "source": [
    "llm = ChatOpenAI(temperature=0, model_name='gpt-3.5-turbo')"
   ]
  },
  {
   "cell_type": "code",
   "execution_count": 22,
   "metadata": {},
   "outputs": [],
   "source": [
    "from langchain import PromptTemplate\n",
    "from langchain.chat_models import ChatOpenAI\n",
    "from langchain.chains.summarize import load_summarize_chain\n",
    "from langchain.docstore.document import Document"
   ]
  },
  {
   "cell_type": "code",
   "execution_count": 23,
   "metadata": {},
   "outputs": [],
   "source": [
    "template = '''Write a concise and short summary of the following speech.\n",
    "Speech: `{text}`\n",
    "'''\n",
    "prompt = PromptTemplate(\n",
    "    input_variables=['text'],\n",
    "    template=template\n",
    ")"
   ]
  },
  {
   "cell_type": "code",
   "execution_count": 24,
   "metadata": {},
   "outputs": [],
   "source": [
    "chain = load_summarize_chain(\n",
    "    llm,\n",
    "    chain_type='stuff',\n",
    "    prompt=prompt,\n",
    "    verbose=False\n",
    ")\n",
    "output_summary = chain.run(docs)"
   ]
  },
  {
   "cell_type": "code",
   "execution_count": 24,
   "metadata": {},
   "outputs": [
    {
     "data": {
      "text/plain": [
       "'Mayo Clinic believes that the US healthcare system needs urgent reform to ensure access to quality and affordable care. They outline the specific responsibilities of doctors/hospitals, patients, payers, and the government in achieving this goal. They recommend reforming the Medicare payment system to incentivize high-quality care at a reasonable cost and coordinating private insurance offerings with subsidies to enable all Americans to purchase health insurance. They emphasize the importance of addressing both payment reform and insurance simultaneously to avoid unintended consequences. They propose specific recommendations for payment reform, such as implementing a value index in Medicare and introducing bundled payments for high-cost conditions. They also suggest creating national value-based care demonstration projects. In terms of insurance, they support requiring Americans to purchase health insurance, providing subsidies, prohibiting pre-existing condition exclusions, and defining a minimum health benefit package. They recommend creating a coordinating mechanism for individuals to select a basic private insurance plan. They propose delegating responsibility for establishing new Medicare payment methods to the Secretary for Health and Human Services or a quasi-independent commission. They also suggest using pay-for-value approaches, such as shared savings, chronic condition coordination payments, varied provider payment updates, full capitation, shared decision-making, accountable care organizations, and episode-based payments for hospitalized patients.'"
      ]
     },
     "execution_count": 24,
     "metadata": {},
     "output_type": "execute_result"
    }
   ],
   "source": [
    "output_summary"
   ]
  },
  {
   "cell_type": "markdown",
   "metadata": {},
   "source": [
    "Summarizing Large Documents Using Map Reduce"
   ]
  },
  {
   "cell_type": "code",
   "execution_count": 30,
   "metadata": {},
   "outputs": [],
   "source": [
    "from langchain import PromptTemplate\n",
    "from langchain.chat_models import ChatOpenAI\n",
    "from langchain.chains.summarize import load_summarize_chain\n",
    "from langchain.text_splitter import RecursiveCharacterTextSplitter"
   ]
  },
  {
   "cell_type": "code",
   "execution_count": 31,
   "metadata": {},
   "outputs": [],
   "source": [
    "# provide the path of  pdf file/files.\n",
    "pdfreader = PdfReader('apjspeech.pdf')\n",
    "from typing_extensions import Concatenate\n",
    "# read text from pdf\n",
    "text = ''\n",
    "for i, page in enumerate(pdfreader.pages):\n",
    "    content = page.extract_text()\n",
    "    if content:\n",
    "        text += content"
   ]
  },
  {
   "cell_type": "code",
   "execution_count": 32,
   "metadata": {},
   "outputs": [],
   "source": [
    "llm = ChatOpenAI(temperature=0, model_name='gpt-3.5-turbo')"
   ]
  },
  {
   "cell_type": "code",
   "execution_count": 30,
   "metadata": {},
   "outputs": [
    {
     "data": {
      "text/plain": [
       "4001"
      ]
     },
     "execution_count": 30,
     "metadata": {},
     "output_type": "execute_result"
    }
   ],
   "source": [
    "llm.get_num_tokens(text)"
   ]
  },
  {
   "cell_type": "code",
   "execution_count": 33,
   "metadata": {},
   "outputs": [],
   "source": [
    "## Splittting the text\n",
    "text_splitter = RecursiveCharacterTextSplitter(chunk_size=10000, chunk_overlap=20)\n",
    "chunks = text_splitter.create_documents([text])"
   ]
  },
  {
   "cell_type": "code",
   "execution_count": 34,
   "metadata": {},
   "outputs": [
    {
     "data": {
      "text/plain": [
       "2"
      ]
     },
     "execution_count": 34,
     "metadata": {},
     "output_type": "execute_result"
    }
   ],
   "source": [
    "len(chunks)"
   ]
  },
  {
   "cell_type": "code",
   "execution_count": 35,
   "metadata": {},
   "outputs": [],
   "source": [
    "chain = load_summarize_chain(\n",
    "    llm,\n",
    "    chain_type='map_reduce',\n",
    "    verbose=False\n",
    ")\n",
    "summary = chain.run(chunks)"
   ]
  },
  {
   "cell_type": "code",
   "execution_count": 36,
   "metadata": {},
   "outputs": [
    {
     "data": {
      "text/plain": [
       "\"Former President of India, A P J Abdul Kalam, gave a departing speech expressing gratitude for support and collaboration, highlighting the need for development, empowering villages, prioritizing agriculture, and promoting courage in the face of challenges. He emphasized the importance of youth in shaping India's future and preserving Indian culture. He also discussed his proposals for a Pan African e-Network and his vision for a developed India by 2020. The author concluded by expressing gratitude and commitment to connecting the hearts and minds of the Indian people.\""
      ]
     },
     "execution_count": 36,
     "metadata": {},
     "output_type": "execute_result"
    }
   ],
   "source": [
    "summary"
   ]
  },
  {
   "cell_type": "markdown",
   "metadata": {},
   "source": [
    "Map Reduce With Custom Prompts"
   ]
  },
  {
   "cell_type": "code",
   "execution_count": 37,
   "metadata": {},
   "outputs": [],
   "source": [
    "chunks_prompt=\"\"\"\n",
    "Please summarize the below speech:\n",
    "Speech:`{text}'\n",
    "Summary:\n",
    "\"\"\"\n",
    "map_prompt_template=PromptTemplate(input_variables=['text'],\n",
    "                                    template=chunks_prompt)"
   ]
  },
  {
   "cell_type": "code",
   "execution_count": 38,
   "metadata": {},
   "outputs": [],
   "source": [
    "final_combine_prompt='''\n",
    "Provide a final summary of the entire speech with these important points.\n",
    "Add a Generic Motivational Title,\n",
    "Start the precise summary with an introduction and provide the\n",
    "summary in number points for the speech.\n",
    "Speech: `{text}`\n",
    "'''\n",
    "final_combine_prompt_template=PromptTemplate(input_variables=['text'],\n",
    "                                             template=final_combine_prompt)"
   ]
  },
  {
   "cell_type": "code",
   "execution_count": 39,
   "metadata": {},
   "outputs": [],
   "source": [
    "summary_chain = load_summarize_chain(\n",
    "    llm=llm,\n",
    "    chain_type='map_reduce',\n",
    "    map_prompt=map_prompt_template,\n",
    "    combine_prompt=final_combine_prompt_template,\n",
    "    verbose=False\n",
    ")\n",
    "output = summary_chain.run(chunks)"
   ]
  },
  {
   "cell_type": "code",
   "execution_count": 40,
   "metadata": {},
   "outputs": [
    {
     "data": {
      "text/plain": [
       "'Title: \"Empowering India: Reflections and Aspirations\"\\n\\nSummary:\\n\\n1. Dr. A. P. J. Abdul Kalam reflects on his five years as President of India, highlighting important messages he has learned during his time in office.\\n2. He emphasizes the aspirations of the youth and the need to accelerate development in the country.\\n3. The importance of empowering villages and mobilizing rural core competence for competitiveness is discussed.\\n4. Kalam shares his experiences with farmers and emphasizes the importance of agriculture as the backbone of the nation.\\n5. Overcoming challenges and disasters through partnership and courage is emphasized.\\n6. The power of sea waves, his proposal for a Pan African e-Network, and his admiration for the Indian defense forces are also discussed.\\n7. The importance of empowering the youth for a developed India by 2020 is highlighted.\\n8. Preserving India\\'s rich culture and resources is emphasized, along with the vision for a developed nation with equitable distribution, quality education, healthcare, and governance.\\n9. Dr. Kalam expresses gratitude for the support he has received and his commitment to connecting the hearts and minds of the Indian people.'"
      ]
     },
     "execution_count": 40,
     "metadata": {},
     "output_type": "execute_result"
    }
   ],
   "source": [
    "output"
   ]
  },
  {
   "cell_type": "markdown",
   "metadata": {},
   "source": [
    "RefineChain For Summarization"
   ]
  },
  {
   "cell_type": "code",
   "execution_count": 41,
   "metadata": {},
   "outputs": [
    {
     "name": "stdout",
     "output_type": "stream",
     "text": [
      "\n",
      "\n",
      "\u001b[1m> Entering new RefineDocumentsChain chain...\u001b[0m\n",
      "\n",
      "\n",
      "\u001b[1m> Entering new LLMChain chain...\u001b[0m\n",
      "Prompt after formatting:\n",
      "\u001b[32;1m\u001b[1;3mWrite a concise summary of the following:\n",
      "\n",
      "\n",
      "\"A P J Abdul Kalam Departing speech \n",
      " \n",
      " \n",
      "Friends, I am delighted to address you all, in the country and those livi ng abroad, after \n",
      "working with you and completing five beautiful and eventful years in Rashtrapati \n",
      "Bhavan. Today, it is indeed a thanks giving occasion. I would like to narr ate, how I \n",
      "enjoyed every minute of my tenure enriched by the wonderful assoc iation from each one \n",
      "of you, hailing from different walks of life, be it politics, sci ence and technology, \n",
      "academics, arts, literature, business, judiciary, administration, local bodies, farming, \n",
      "home makers, special children, media and above all from the youth and st udent \n",
      "community who are the future wealth of our country. During my intera ction at \n",
      "Rashtrapati Bhavan in Delhi and at every state and union territor y as well as through my \n",
      "online interactions, I have many unique experiences to share with you, which signify the \n",
      "following important messages: \n",
      " \n",
      "1. Accelerate development : Aspiration of the youth, \n",
      " \n",
      "2. Empower villages, \n",
      " \n",
      "3. Mobilize rural core competence for competitiveness, \n",
      " \n",
      "4. Seed to Food: Backbone for agricultural growth \n",
      " \n",
      "5. Defeat problems and succeed, \n",
      " \n",
      "6. Overcome problems through partnership, \n",
      " \n",
      "7. Courage in combating calamities, \n",
      " \n",
      "8. Connectivity for societal transformation, \n",
      " \n",
      "9. Defending the nation: Our pride and \n",
      " \n",
      "10. Youth movement for Developed India 2020. \n",
      " \n",
      "Now let me share with you each of the messages. \n",
      " \n",
      "Accelerate Development: Aspiration of the youth \n",
      "While there were many significant events during my tenure, a que stion from a little girl \n",
      "Anukriti of Sri Sathya Sai Jagriti Vidya Mandir School, of Dar wa village from Haryana, \n",
      "during children’s visit to Rashtrapati Bhavan on May 22, 2006, rings in my  mind ever \n",
      "after. \n",
      " \n",
      "Anukriti asked me “why India cannot become a developed nation before the year 2020”. I \n",
      "appreciated the question and said it was indeed a thoughtful question and as sured her that \n",
      "that her dream would be taken to the highest institution of the nation and we would work for it to achieve before 2020. This question reflects how the desire t o live in developed \n",
      "India has entered into the minds of the youth. The same feelings are  echoed by over \n",
      "fifteen lakh youth, whom I have met so far and who represent the drea m of the 540 \n",
      "million youth of the nation. The aspirations of the young to live in a prosperous, safe and \n",
      "proud India should be the guiding factor in whatever profession we contribute. \n",
      " \n",
      "Empower Villages \n",
      "Friends, I recall my visit to Nagaland on 26th October 2002, soon after m y assuming \n",
      "office as President. It was a unique experience for me at Khuza ma village to meet tribal \n",
      "village council members and discuss with them the village progress  and the dream of \n",
      "village citizens. I was very happy to see the empowered village  council functioning with \n",
      "financial powers and taking decisions. I saw a prosperous village with fruits and \n",
      "vegetables production. However, there is a need for providing physical c onnectivity in \n",
      "Nagaland through quality roads for enabling faster movement of produ cts from villages \n",
      "to the market. That meeting gave me a powerful message about the t ransformation which \n",
      "can take place to the 600,000 villages of India, if all the villages a re empowered to deal \n",
      "with their development and are well connected among themselves and wit h the urban \n",
      "societies. \n",
      " \n",
      "Mobilizing rural core competence for competitiveness \n",
      "Now I would like to talk about the initiative of Periyar Maniammai  College of \n",
      "Technology for Women, Vallam, Tanjore of Providing Urban Amenities in Rural Areas \n",
      "(PURA) complex involving 65 villages with a population of 3 lakhs. This inc ludes \n",
      "provision of three connectivities - physical, electronic and knowledge  - leading to \n",
      "economic connectivity. Periyar PURA has health care centers, pr imary to post graduate \n",
      "level education and vocational training centers. This has resulted i n large-scale \n",
      "employment generation and creation of number of entrepreneurs with the  active support \n",
      "of 1000 self-help groups. Two hundred acres of waste land has been develope d into a \n",
      "cultivable land. The villagers are busy in cultivation, planting Jatropha, herbal and \n",
      "medicinal plants, power generation using bio-mass, food processing and above all \n",
      "running marketing centers. It provides a sustainable economic developm ent model for the \n",
      "whole region. \n",
      " \n",
      "During the last eight months, people of Periyar PURA villages technologically supported \n",
      "by Periyar Maniammai College of Engineering for Women have w orked with experts \n",
      "from Japan External Trade Organisation (JETRO) on various products, for  which core \n",
      "competence and raw material are available in Thanjavur district. They developed \n",
      "internationally competitive prototypes for 55 life style products wi th support of JETRO \n",
      "specialists and feedback from exhibitions at Delhi and Tokyo. This co -operative venture \n",
      "has enhanced the innovative ability of the people of all the 65 villages  enabling them to \n",
      "develop and produce internationally acceptable products. I have seen si milar type of \n",
      "PURA being established in many states. The whole country needs 7000 PU RA to \n",
      "bridging the rural – urban divide. \n",
      " \n",
      "Seed to Food: Backbone for agricultural growth Let me now share with you, the enriching experience I had, whil e meeting more than \n",
      "6000 farmers from different States and Union Territories visitin g Rashtrapati Bhavan. \n",
      "They evinced keen interest in the Mughal Gardens, the Herbal Gardens , the Spiritual \n",
      "Garden, the Musical Garden, the Bio-diesel garden and the Nutrition Garden and interact \n",
      "with the Horticultural specialists. Recently, during my address to the agricultural \n",
      "scientists while participating in a National Symposium on “Agri culture Cannot Wait”, I \n",
      "summarized the many practical suggestions given by farmers. W e have to double the \n",
      "agricultural production with reduced land, reduced water resources and re duced \n",
      "manpower and improve the economic conditions of the nation through the principle  of \n",
      "“Seed to Food” since agriculture is the backbone of the nation. We should em power the \n",
      "farmers to protect and nurture the fertile land for second green re volution. Meeting the \n",
      "Scientists and the Farmers has given me the confidence \n",
      "that the nation is poised to increase the agricultural GDP growth by atleast 4% per annum \n",
      "through the partnership of farmers and agricultural scientists a nd industries particularly \n",
      "for value addition. \n",
      " \n",
      "Defeat the problems and succeed \n",
      "On the evening of February 24, 2007, at Coimbatore, I had a very beautif ul experience. \n",
      "As I got ready for meeting the first person out of twenty appoint ments, a wheel chair was \n",
      "in sight with a smiling person probably in his late fifties; unfortunately he has no hands \n",
      "and legs. His radiant face was revealing his happy state of mi nd. He introduced himself \n",
      "as Vidwan Coimbatore SR Krishna Murthy. I greeted him and asked him  how this had \n",
      "happened. He smilingly said that it was from by birth. He thanked G od, his parents, \n",
      "teachers and many others for giving him confidence, training and he lp. I asked him, what \n",
      "I could do for him? He said, “I don’t need anything from you. I would like to sing in fr ont \n",
      "of you”. I readily agreed. He sang melodiously the Saint Thyagraj a’s pancha ratna kriti \n",
      "entharo mahanubavulu in Sriragam giving me a glimpse of his talent. I was quite  touched. \n",
      "What is the message? Despite being physically challenged, the latent talent of music \n",
      "could blossom in this \n",
      "person with his positive attitude and perseverance, encouraged by the pa rents, teachers, \n",
      "academics and rasikas. Now he wants to give, give and give his art to inspire others. Of \n",
      "course, by his merit of music, in July 2007, he performed in the Rashtra pati Bhavan art \n",
      "theatre. \n",
      " \n",
      "Overcome the impact of disaster through partnership \n",
      "I had the opportunity to experience the Indomitable Spirit of the people  and children of \n",
      "Jammu & Kashmir even as they were just recovering from the de vastating earthquake in \n",
      "2005. I visited Urusa village on 26th November 2005 which has been adopted by the  \n",
      "Western Air Command, Air Force for providing relief and medical aid to the residents of \n",
      "that area. When I went there, I found that the school building had been severely  damaged. \n",
      "I met all the school children and the village citizen of Urusa. T he villagers apprised me of \n",
      "their losses and had all praise for Army and Air Force role in rescue and relief operations \n",
      "along with state government. I appreciate the courage of the people of Urusa in defeating \n",
      "their problems. They have actually become the master of the probl em rather than \n",
      "allowing problems to become their master. Despite the severe l oss due to the earthquake, the children and the members of the village participated in the reli ef operation with the \n",
      "Armed Forces \n",
      "bravely and were smiling when I went to meet them. They interact ed with me and said \n",
      "that the school was functional in the temporary tents. Here, I also witnessed the \n",
      "participation of acting Chief Justice of Jammu & Kashmir along with State Government \n",
      "authorities in on-the-spot settlement of relief grants to be provide d to the victims whose \n",
      "houses had been damaged in the earth quake. I have experienced many s uch acts of \n",
      "courage from our citizens when faced with severe challenges. \n",
      " \n",
      "Courage in combating calamities \n",
      "In 2005, I met the Tribal Council Leaders, Students, Children of Chuckchucha  village \n",
      "during my visit to Car Nicobar Islands. While various reconstruction a nd rehabilitation \n",
      "activities were in progress, during the discussions with the members  of tribal council, I \n",
      "realized the unique trait among the Car-Nicobar islanders. Even thoug h there were many \n",
      "human losses due to the Tsunami of 26 Dec 2004, the tribal islanders had  taken \n",
      "possession of affected victims as their children and there is nothi ng like orphanage in \n",
      "Car-Nicobar Islands. Touched by their courage, I composed few vers es called “Sea\"\n",
      "\n",
      "\n",
      "CONCISE SUMMARY:\u001b[0m\n",
      "\n",
      "\u001b[1m> Finished chain.\u001b[0m\n",
      "\n",
      "\n",
      "\u001b[1m> Entering new LLMChain chain...\u001b[0m\n",
      "Prompt after formatting:\n",
      "\u001b[32;1m\u001b[1;3mYour job is to produce a final summary.\n",
      "We have provided an existing summary up to a certain point: Former President of India, A P J Abdul Kalam, gave a departing speech after completing five years in office. He expressed gratitude for the support and collaboration he received from various sectors of society. He highlighted important messages such as the need to accelerate development, empower villages, mobilize rural core competence, prioritize agriculture, overcome challenges, and promote courage in the face of calamities. He also emphasized the importance of youth in shaping the future of India.\n",
      "We have the opportunity to refine the existing summary (only if needed) with some more context below.\n",
      "------------\n",
      "Waves” which reads as follows: \n",
      "Sea Waves \n",
      " \n",
      "We are the children of Sea waves, \n",
      "Sea waves are my friends. \n",
      "When they become angry, \n",
      "Sea waves give the challenges. \n",
      "God has given the courage, \n",
      "To challenge the sea waves. \n",
      "And we will succeed, \n",
      "We will succeed \n",
      "With Almighty’s grace. \n",
      "All the members who were gathered in the village sang the poem  with me and exhibited \n",
      "lots of courage and enthusiasm even though they had gone through severe  suffering \n",
      "during the Tsunami. \n",
      " \n",
      "Connectivity for societal transformation \n",
      "I addressed the Pan African Parliament on 16 September 2004, at Johanne sburg, South \n",
      "Africa. This was attended by 53 member countries of the Africa n Union, where I \n",
      "proposed the concept of Pan African e-Network for providing seamless and integrated \n",
      "satellite, fiber optics and wireless network connecting 53 African countries at an \n",
      "estimated cost of US $ 100 million. \n",
      " \n",
      "As part of the project 12 universities (7 from India and 5 from Afri ca), 17 Super \n",
      "Specialty Hospitals (12 from India and 5 from Africa), 53 tele-me dicine centers and 53 \n",
      "tele-education centres in Africa will be connected. The pilot proj ect on tele-education and \n",
      "tele-medicine in Ethiopia has already been commissioned. Indira Gandh i National Open \n",
      "University has taken up the MBA Course for 34 Ethiopian students of Addis  Ababa and \n",
      "Harmaya Universities. As regards, tele-medicine, the special ists from CARE Hospital, Hyderabad are providing one-hour live tele-consultation to doctors in B lack Lion \n",
      "Hospital, Addis Ababa in Cardiology and Radiology since November 2006. Using the \n",
      "Pan African network the Heads of the State in all the 53 countries  will be connected for \n",
      "instant communication. I am extremely happy that Indian experience  in bringing the \n",
      "benefits of technology to the people has enabled us to work with Afric a to bring societal \n",
      "transformation in the African continent. \n",
      " \n",
      "Defending the nation: Our pride \n",
      "I visited KUMAR in Siachen Glacier located at 17,000 feet altitude  held by the Indian \n",
      "Army, had a memorable underwater journey in INS Sindhurakshak and flew  in a Sukhoi-\n",
      "30 fighter experiencing 2.5 g. In these three experiences, I personal ly felt proud of our \n",
      "ever vigilant Soldiers, Sailors and Air Warriors performing their  tasks beyond the call of \n",
      "their duty even in the most adverse circumstances natural and man m ade. During the last \n",
      "five years, I had an opportunity to present colours to many regime nts, participate in \n",
      "number of passing out parades, meet the troops who were going to undertake  peace \n",
      "missions and interact with the family members of our Defence F orces. Our Defence \n",
      "Forces are in a beautiful mission. When the nation sleeps during night , Members of our \n",
      "Defence teams are awake to guard us and remain vigilant to counte r any threat. The \n",
      "Nation cherishes the valour, commitment and devotion to duty of our Defenc e Forces. \n",
      "Similarly, I had opportunities to interact \n",
      "with members of our para-military forces, central and state poli ce personnel including \n",
      "internal security forces who are making immense contribution in au gmenting the safety \n",
      "and security of our citizens under difficult conditions. \n",
      " \n",
      "Youth movement for Developed India 2020 \n",
      "Recently, in Hyderabad, I met a group of citizens who are putting i nto practice the motto \n",
      "of transforming of our youth into enlightened citizen. The Lead India 2020 Found ation \n",
      "created by Dr. N.B. Sudershan at Hyderabad is training thousands of s tudents in many \n",
      "districts of Andhra Pradesh in partnership with the District Adm inistration. Particularly, I \n",
      "happened to know the transformation which has taken place among the students  of \n",
      "Medak district. As per the district authorities the impact of the  training on the students is \n",
      "visible in terms of self-discipline, love for their parents and tea chers shedding of stage \n",
      "fear and recognition of their duties towards the nation. I talke d to Ms. Padma, a student \n",
      "leader from Andhra Pradesh Tribal Welfare School, Nalgonda who relat ed how she \n",
      "weaned her father away from smoking after imbibing the spirit of  the 10 point oath from \n",
      "the Lead India Training Camp. This gives me an assurance that the  youth of our country \n",
      "are on the right path \n",
      "through this mission oriented programme. With the ignited minds of the  540 million \n",
      "youth below the age of 25, which I consider is the most powerful resour ce on the earth, \n",
      "under the earth and above the earth, we have to empower the youth through va lue based \n",
      "education and leadership. \n",
      " \n",
      "Conclusion \n",
      "I was touched by the variety of Indian panorama, emotional content of  the tune, cultural \n",
      "diversity and unity of minds in the vast land of ours. I have cited thes e examples just to \n",
      "give a glimpse of the richness of our tradition and effort being take n by different agencies to preserve it. There are also many new adventures by instituti ons and individuals. I have \n",
      "experienced many of them and learnt a lot about my country and our peopl e. Even while \n",
      "pursuing our economic growth, we need to do a lot to preserve the rich and diverse \n",
      "treasures of our culture and civilization. It is our duty for our fut ure generations. This has \n",
      "to be done in a much larger scale through countrywide participatio n of multiple \n",
      "institutions. Our country is blessed with natural resources, has shown c onsiderable \n",
      "progress in the last sixty years, and above all we have hard wor king people particularly \n",
      "the power of the 540 million youth of the country. Every sector of our count ry has given \n",
      "me the \n",
      "confidence that India can become a developed nation well before 2020. Whomsoeve r, I \n",
      "met they constantly ask what they can give to the nation. We should c onstantly strive to \n",
      "empower such members of the society. With this spirit, I am extr emely happy that we are \n",
      "on the right path. Here I am reminded of a famous poem: \n",
      "\"When you wish upon a star, \n",
      "Makes no difference who you are, \n",
      "Anything your heart desires, \n",
      "Will come to you” \n",
      "This poem is true to all of us, and particularly for our youth and i f they aim great, I am \n",
      "sure they will reach close to the target or the target. \n",
      " \n",
      "My dear citizens, let us resolve to continue to work for realizing the missions of \n",
      "developed India 2020 with the following distinctive profile. \n",
      " \n",
      "1. A Nation where the rural and urban divide has reduced to a thin line. \n",
      " \n",
      "2. A Nation where there is an equitable distribution and adequate acce ss to energy and \n",
      "quality water. \n",
      " \n",
      "3. A Nation where agriculture, industry and service sector work together in sym phony. \n",
      " \n",
      "4. A Nation where education with value system is not denied to any meritorious \n",
      "candidates because of societal or economic discrimination. \n",
      " \n",
      "5. A Nation which is the best destination for the most talented s cholars, scientists, and \n",
      "investors. \n",
      " \n",
      "6. A Nation where the best of health care is available to all. \n",
      " \n",
      "7. A Nation where the governance is responsive, transparent and corruption free. \n",
      " \n",
      "8. A Nation where poverty has been totally eradicated, illiterac y removed and crimes \n",
      "against women and children are absent and none in the society feels alienated. \n",
      " \n",
      "9. A Nation that is prosperous, healthy, secure, peaceful and happy a nd continues with a \n",
      "sustainable growth path. \n",
      " 10. A Nation that is one of the best places to live in and is proud of its leadership. \n",
      " \n",
      "Finally let me thank each one of you for showering your love and aff ection on me \n",
      "throughout the last five years by your cooperation and support. \n",
      " \n",
      "Dear Citizens, I conclude my address by sharing with you my mission in life which is to \n",
      "bring connectivity between billion hearts and minds of the people of Indi a in our \n",
      "multicultural society and to embed the self confidence that \"we c an do it\". I will be \n",
      "always with you, dear citizens, in the great mission of making Indi a a developed nation \n",
      "before 2020. \n",
      " \n",
      "May God bless you. \n",
      " \n",
      "Jai hind. \n",
      "Dr. A. P. J. Abdul Kalam \n",
      "www.presidentofindia.nic.in\n",
      "------------\n",
      "Given the new context, refine the original summary.\n",
      "If the context isn't useful, return the original summary.\u001b[0m\n",
      "\n",
      "\u001b[1m> Finished chain.\u001b[0m\n",
      "\n",
      "\u001b[1m> Finished chain.\u001b[0m\n"
     ]
    }
   ],
   "source": [
    "chain = load_summarize_chain(\n",
    "    llm=llm,\n",
    "    chain_type='refine',\n",
    "    verbose=True\n",
    ")\n",
    "output_summary = chain.run(chunks)"
   ]
  },
  {
   "cell_type": "code",
   "execution_count": 40,
   "metadata": {},
   "outputs": [
    {
     "data": {
      "text/plain": [
       "'Former President of India, A P J Abdul Kalam, gave a departing speech after completing five years in office. He expressed gratitude for the support and collaboration he received from various sectors of society. He highlighted important messages such as the need to accelerate development, empower villages, prioritize agriculture, and promote courage in the face of calamities. He also emphasized the importance of youth in shaping the future of India. Additionally, he shared experiences of his visits to Siachen Glacier and interactions with defense and security forces. He mentioned the Pan African e-Network project and the impact of the Lead India 2020 Foundation in empowering the youth. He concluded by expressing his mission to connect the hearts and minds of the people of India and make the country a developed nation before 2020.'"
      ]
     },
     "execution_count": 40,
     "metadata": {},
     "output_type": "execute_result"
    }
   ],
   "source": [
    "output_summary"
   ]
  },
  {
   "cell_type": "code",
   "execution_count": null,
   "metadata": {},
   "outputs": [],
   "source": []
  }
 ],
 "metadata": {
  "kernelspec": {
   "display_name": "Python 3",
   "language": "python",
   "name": "python3"
  },
  "language_info": {
   "codemirror_mode": {
    "name": "ipython",
    "version": 3
   },
   "file_extension": ".py",
   "mimetype": "text/x-python",
   "name": "python",
   "nbconvert_exporter": "python",
   "pygments_lexer": "ipython3",
   "version": "3.9.0"
  }
 },
 "nbformat": 4,
 "nbformat_minor": 2
}
